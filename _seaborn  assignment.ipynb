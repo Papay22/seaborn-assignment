{
 "cells": [
  {
   "cell_type": "code",
   "execution_count": null,
   "id": "96dd5e9d-134f-4867-9528-73402c802d67",
   "metadata": {},
   "outputs": [],
   "source": [
    "Line Plot: Line plots are used to visualize the relationship between two variables. It is most commonly used to compare two continuous variables, such as the change in a stock price over time.\n",
    "Bar Plot: Bar plots are used to compare the values of different categories. It is used to compare the number of observations in each category.\n",
    "Box Plot: Box plots are used to visualize the distribution of a dataset. It is used to identify outliers and compare the spread of different groups.\n",
    "Heatmap: Heatmaps are used to visualize the relationship between two variables. It is used to identify correlations between variables and identify areas of concentration.\n",
    "Violin Plot: Violin plots are used to visualize the distribution of a dataset. It is used to compare the distribution of multiple groups and identify outliers."
   ]
  },
  {
   "cell_type": "code",
   "execution_count": null,
   "id": "385a226e-3bb5-4e3c-acb5-f81c5611f9b7",
   "metadata": {},
   "outputs": [],
   "source": [
    "Answer:\n",
    "\n",
    "\n",
    "import seaborn as sns\n",
    "\n",
    "\n",
    "Load the fmri dataset\n",
    "\n",
    "\n",
    "fmri = sns.load_dataset('fmri')\n",
    "\n",
    "\n",
    "Plot a line plot using x = \"timepoint\" and y = \"signal\" for different events and regionssns.lineplot(x=\"timepoint\", y=\"signal\", hue=\"event\", style=\"region\", data=fmri)"
   ]
  },
  {
   "cell_type": "code",
   "execution_count": null,
   "id": "c89ad9ad-1a25-4265-a114-c50ab6a7e2cd",
   "metadata": {},
   "outputs": [],
   "source": [
    "Answer:\n",
    "\n",
    "\n",
    "import seaborn as sns\n",
    "\n",
    "titanic = sns.load_dataset('titanic')\n",
    "\n",
    "\n",
    "sns.boxplot(x=\"pclass\", y=\"age\", data=titanic)\n",
    "\n",
    "plt.show()\n",
    "\n",
    "\n",
    "sns.boxplot(x=\"pclass\", y=\"fare\", data=titanic)\n",
    "\n",
    "plt.show()"
   ]
  },
  {
   "cell_type": "code",
   "execution_count": null,
   "id": "05266d19-9453-4201-8d26-e6fba64ab620",
   "metadata": {},
   "outputs": [],
   "source": [
    "Answer:\n",
    "\n",
    "\n",
    "import seaborn as sns\n",
    "\n",
    "import matplotlib.pyplot as plt\n",
    "\n",
    "\n",
    "sns.set(style=\"whitegrid\")\n",
    "\n",
    "ax = sns.distplot(sns.load_dataset(\"diamonds\")\"price\", hue=\"cut\", bins=20, kde=False)\n",
    "\n",
    "plt.show()"
   ]
  },
  {
   "cell_type": "code",
   "execution_count": null,
   "id": "53dfc205-983a-4ec3-98ff-95ba19cc9d2e",
   "metadata": {},
   "outputs": [],
   "source": [
    "Answer:\n",
    "\n",
    "\n",
    "import seaborn as sns\n",
    "\n",
    "sns.pairplot(data=iris, hue='species')"
   ]
  }
 ],
 "metadata": {
  "kernelspec": {
   "display_name": "Python 3 (ipykernel)",
   "language": "python",
   "name": "python3"
  },
  "language_info": {
   "codemirror_mode": {
    "name": "ipython",
    "version": 3
   },
   "file_extension": ".py",
   "mimetype": "text/x-python",
   "name": "python",
   "nbconvert_exporter": "python",
   "pygments_lexer": "ipython3",
   "version": "3.10.8"
  }
 },
 "nbformat": 4,
 "nbformat_minor": 5
}
